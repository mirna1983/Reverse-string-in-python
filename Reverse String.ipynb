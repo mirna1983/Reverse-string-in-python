{
 "cells": [
  {
   "cell_type": "markdown",
   "id": "deee599c",
   "metadata": {},
   "source": [
    "Have the function FirstReverse(str) take the str parameter being passed and return the string in reversed order. For example: if the input string is \"Hello World and Coders\" then your program should return the string sredoC dna dlroW olleH."
   ]
  },
  {
   "cell_type": "code",
   "execution_count": 4,
   "id": "a85defc5",
   "metadata": {},
   "outputs": [
    {
     "name": "stdout",
     "output_type": "stream",
     "text": [
      "Hello World and Coders\n",
      "sredoC dna dlroW olleH\n"
     ]
    }
   ],
   "source": [
    "def FirstReverse(strParam):\n",
    "    str = \"\"\n",
    "    for i in strParam:\n",
    "        str= i + str\n",
    "    return str\n",
    "    \n",
    "\n",
    "# keep this function call here \n",
    "print(FirstReverse(input()))"
   ]
  },
  {
   "cell_type": "code",
   "execution_count": null,
   "id": "2334407b",
   "metadata": {},
   "outputs": [],
   "source": []
  }
 ],
 "metadata": {
  "kernelspec": {
   "display_name": "Python 3",
   "language": "python",
   "name": "python3"
  },
  "language_info": {
   "codemirror_mode": {
    "name": "ipython",
    "version": 3
   },
   "file_extension": ".py",
   "mimetype": "text/x-python",
   "name": "python",
   "nbconvert_exporter": "python",
   "pygments_lexer": "ipython3",
   "version": "3.8.8"
  }
 },
 "nbformat": 4,
 "nbformat_minor": 5
}
